{
 "cells": [
  {
   "cell_type": "markdown",
   "metadata": {},
   "source": [
    "#생선을 분류 하는 실습 코드"
   ]
  },
  {
   "cell_type": "code",
   "execution_count": null,
   "metadata": {},
   "outputs": [],
   "source": [
    "# http://bit.ly/bream_list 에서 복붙하기(생선의 길이, 생선의 무게)\n",
    "bream_length = [25.4, 26.3, 26.5, 29.0, 29.0, 29.7, 29.7, 30.0, 30.0, 30.7, 31.0, 31.0, \n",
    "                31.5, 32.0, 32.0, 32.0, 33.0, 33.0, 33.5, 33.5, 34.0, 34.0, 34.5, 35.0, \n",
    "                35.0, 35.0, 35.0, 36.0, 36.0, 37.0, 38.5, 38.5, 39.5, 41.0, 41.0]\n",
    "bream_weight = [242.0, 290.0, 340.0, 363.0, 430.0, 450.0, 500.0, 390.0, 450.0, 500.0, 475.0, 500.0, \n",
    "                500.0, 340.0, 600.0, 600.0, 700.0, 700.0, 610.0, 650.0, 575.0, 685.0, 620.0, 680.0, \n",
    "                700.0, 725.0, 720.0, 714.0, 850.0, 1000.0, 920.0, 955.0, 925.0, 975.0, 950.0]\n",
    "\n",
    "import matplotlib.pyplot as plt\n",
    "\n",
    "plt.scatter(bream_length, bream_weight)\n",
    "plt.xlabel(\"fish length\")\n",
    "plt.ylabel(\"fish weight\")\n",
    "plt.show()\n",
    "\n",
    "# 빙어 데이터 추가하기\n"
   ]
  },
  {
   "cell_type": "code",
   "execution_count": null,
   "metadata": {},
   "outputs": [],
   "source": [
    "smelt_length = [9.8, 10.5, 10.6, 11.0, 11.2, 11.3, 11.8, 11.8, 12.0, 12.2, 12.4, 13.0, 14.3, 15.0]\n",
    "smelt_weight = [6.7, 7.5, 7.0, 9.7, 9.8, 8.7, 10.0, 9.9, 9.8, 12.2, 13.4, 12.2, 19.7, 19.9]\n",
    "\n",
    "# 두 종류의 생선 그래프를 동시에 출력해보자\n",
    "plt.scatter(bream_length, bream_weight)\n",
    "plt.scatter(smelt_length, smelt_weight)\n",
    "plt.xlabel(\"fish length\")\n",
    "plt.ylabel(\"fish weight\")\n",
    "plt.show()"
   ]
  },
  {
   "cell_type": "code",
   "execution_count": null,
   "metadata": {},
   "outputs": [],
   "source": [
    "length = bream_length + smelt_length\n",
    "weight = bream_weight + smelt_weight\n",
    "\n",
    "# 사이킷런을 쓰기 위해서 데이터 전처리를 해준다.\n",
    "fish_data = [[l,w] for l,w in zip(length, weight)]\n",
    "\n",
    "# 지도학습의 특징인 정답 데이터를 만들어 준다. (도미:1, 빙어:0 으로 처리)\n",
    "fish_answer = [1]*35 + [0]*14\n",
    "\n",
    "# 사이킷런 패키지 import 하기\n",
    "from sklearn.neighbors import KNeighborsClassifier\n",
    "\n",
    "# kn 객체를 생성한뒤, fish data, fish_answer를 학습시킨다.(훈련 준비)\n",
    "kn = KNeighborsClassifier()\n",
    "kn.fit(fish_data, fish_answer)    #데이터 넣기(2차원 데이터, 분류결과)\n",
    "\n",
    "print(kn.score(fish_data, fish_answer))    # 모델 평가하기(알고리즘을 구체화해서 표현한것)\n",
    "\n",
    "print(kn.predict([[30, 600]]))    # 새로운 데이터를 넣어본뒤, 결과를 예측한다. (길이가 30, 무게가 600)\n",
    "\n",
    "print(kn._fit_X)    #학습된 데이터를 출력\n",
    "print(kn._y)    #해당 데이터의 레이블 출력\n"
   ]
  },
  {
   "cell_type": "code",
   "execution_count": 15,
   "metadata": {},
   "outputs": [
    {
     "data": {
      "text/plain": [
       "0.7142857142857143"
      ]
     },
     "execution_count": 15,
     "metadata": {},
     "output_type": "execute_result"
    }
   ],
   "source": [
    "# 49개중 35개가 도미 이다. 이때 k-최근접 이웃을 비교하는 이웃 개수를 49개로 늘려보겠습니다.(5개 --> 49개(전체보기한다는 말))\n",
    "\n",
    "kn49 =KNeighborsClassifier(n_neighbors=49)    # 참고 데이터개수를 49개로 늘린다.\n",
    "kn49.fit(fish_data, fish_answer)\n",
    "\n",
    "kn49.score(fish_data, fish_answer)    # 정확도가 49분에 35이다. (35개의 도미, 14개의 빙어를 가진 데이터를 넣는다면 학습시킨것에 넣으면)\n",
    "# 이 모델은 도미가 몇개인지 카운트 하기 때문에 35개는 도미, 14개도 도미(실제정답은 빙어, False Positive인 상황)로 인식하기에 이런정확도가 나온다."
   ]
  },
  {
   "cell_type": "markdown",
   "metadata": {},
   "source": [
    "# 최종 결과를 출력하자"
   ]
  },
  {
   "cell_type": "code",
   "execution_count": null,
   "metadata": {},
   "outputs": [],
   "source": [
    "\n",
    "plt.scatter(bream_length, bream_weight)\n",
    "plt.scatter(smelt_length, smelt_weight)\n",
    "plt.scatter(30, 600, marker='^')     # 가로범위, 세로범위, 마크는 세모를 쓰시오~ 하는것과 같은 효과?\n",
    "\n",
    "plt.xlabel('length')\n",
    "plt.ylabel('weight')\n",
    "plt.show()    # 그래프 출력\n",
    "\n",
    "kn.predict([[30,600]])    # 쿼리문 던지기\n",
    "\n",
    "print(kn._fit_X)    # 학습된 입력 데이터 정보\n",
    "print(kn._y)    # 정답 클래스 출력하기\n"
   ]
  },
  {
   "cell_type": "markdown",
   "metadata": {},
   "source": [
    "# 전체 실습 코드"
   ]
  },
  {
   "cell_type": "code",
   "execution_count": 3,
   "metadata": {},
   "outputs": [
    {
     "data": {
      "text/plain": [
       "<function matplotlib.pyplot.show(close=None, block=None)>"
      ]
     },
     "execution_count": 3,
     "metadata": {},
     "output_type": "execute_result"
    },
    {
     "data": {
      "image/png": "[encoded data removed]",
      "text/plain": [
       "<Figure size 640x480 with 1 Axes>"
      ]
     },
     "metadata": {},
     "output_type": "display_data"
    }
   ],
   "source": [
    "# 도미의 길이, 무게 리스트 35개\n",
    "bream_length = [25.4, 26.3, 26.5, 29.0, 29.0, 29.7, 29.7, 30.0, 30.0, 30.7, 31.0, 31.0, \n",
    "                31.5, 32.0, 32.0, 32.0, 33.0, 33.0, 33.5, 33.5, 34.0, 34.0, 34.5, 35.0, \n",
    "                35.0, 35.0, 35.0, 36.0, 36.0, 37.0, 38.5, 38.5, 39.5, 41.0, 41.0]\n",
    "bream_weight = [242.0, 290.0, 340.0, 363.0, 430.0, 450.0, 500.0, 390.0, 450.0, 500.0, 475.0, 500.0, \n",
    "                500.0, 340.0, 600.0, 600.0, 700.0, 700.0, 610.0, 650.0, 575.0, 685.0, 620.0, 680.0, \n",
    "                700.0, 725.0, 720.0, 714.0, 850.0, 1000.0, 920.0, 955.0, 925.0, 975.0, 950.0]\n",
    "\n",
    "# 빙어의 길이와 무게 리스트 14개\n",
    "smelt_length = [9.8, 10.5, 10.6, 11.0, 11.2, 11.3, 11.8, 11.8, 12.0, 12.2, 12.4, 13.0, 14.3, 15.0]\n",
    "smelt_weight = [6.7, 7.5, 7.0, 9.7, 9.8, 8.7, 10.0, 9.9, 9.8, 12.2, 13.4, 12.2, 19.7, 19.9]\n",
    "\n",
    "\n",
    "import matplotlib.pyplot as plt    # 그래프 그림을 그릴때 쓰는 라이브러리 호출(맷플롯립 )\n",
    "from sklearn.neighbors import KNeighborsClassifier     # K-최근접 이웃 분류 알고리즘 호출(사이킷런 머신러닝 패키지)\n",
    "\n",
    "All_fish_length=bream_length + smelt_length\n",
    "All_fish_weight=bream_weight + smelt_weight\n",
    "All_fish_answer = [1]*35+[0]*14    # Superviser 학습을 위한 정답지 만들기 (1이면 도미, 0이면 빙어이다.)\n",
    "All_data = [[a,b] for a,b in zip(All_fish_length, All_fish_weight)]    # 사이킷런 활용을 위한 2차원 리스트 쌍 [[길이,무게], [길이,무게]...]\n",
    "\n",
    "kn = KNeighborsClassifier()    # K-최근접 이웃분류 클래스 인스턴스화 하기 (n_neighbors=15를 클래스 괄호 안에 넣어주면 이웃체크수 15개로 변경 가능)\n",
    "kn.fit(All_data, All_fish_answer)    # 데이터 학습시키기\n",
    "kn.score(All_data, All_fish_answer)    # 학습율을 물어본다. (만약 n_neighbors=49이면, 35마리의 도미가 대다수를 차지하므로 무조건 도미로 판단하여, 35/49으로 학습율이 나타난다(정확도 Accuracy에 해당한다!))\n",
    "kn.predict([[42,1000]])    # 길이가 42, 무게가 1000 인 생선이 어떻게 분류되는지 질의를 던짐(학습되지 않는 처음 만나는 데이터)\n",
    "\n",
    "\n",
    "# 그래프 그리기 시작 (scatter를 활용해 산점도 형태로 그린다.)\n",
    "plt.scatter(bream_length, bream_weight)\n",
    "plt.scatter(smelt_length, smelt_weight)\n",
    "plt.scatter(42,1000, marker='^')    # 내가 질의를 던진 좌표만 삼각형점으로 사용함\n",
    "plt.xlabel('length')\n",
    "plt.ylabel('weight')\n",
    "plt.show"
   ]
  }
 ],
 "metadata": {
  "kernelspec": {
   "display_name": "Python 3",
   "language": "python",
   "name": "python3"
  },
  "language_info": {
   "codemirror_mode": {
    "name": "ipython",
    "version": 3
   },
   "file_extension": ".py",
   "mimetype": "text/x-python",
   "name": "python",
   "nbconvert_exporter": "python",
   "pygments_lexer": "ipython3",
   "version": "3.11.4"
  },
  "orig_nbformat": 4
 },
 "nbformat": 4,
 "nbformat_minor": 2
}
