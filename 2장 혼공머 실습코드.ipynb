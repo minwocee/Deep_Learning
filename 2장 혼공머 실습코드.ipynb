{
 "cells": [
  {
   "cell_type": "code",
   "execution_count": 3,
   "metadata": {},
   "outputs": [
    {
     "data": {
      "text/plain": [
       "0.0"
      ]
     },
     "execution_count": 3,
     "metadata": {},
     "output_type": "execute_result"
    }
   ],
   "source": [
    "# 도미의 길이, 무게 리스트 35개\n",
    "bream_length = [25.4, 26.3, 26.5, 29.0, 29.0, 29.7, 29.7, 30.0, 30.0, 30.7, 31.0, 31.0, \n",
    "                31.5, 32.0, 32.0, 32.0, 33.0, 33.0, 33.5, 33.5, 34.0, 34.0, 34.5, 35.0, \n",
    "                35.0, 35.0, 35.0, 36.0, 36.0, 37.0, 38.5, 38.5, 39.5, 41.0, 41.0]\n",
    "bream_weight = [242.0, 290.0, 340.0, 363.0, 430.0, 450.0, 500.0, 390.0, 450.0, 500.0, 475.0, 500.0, \n",
    "                500.0, 340.0, 600.0, 600.0, 700.0, 700.0, 610.0, 650.0, 575.0, 685.0, 620.0, 680.0, \n",
    "                700.0, 725.0, 720.0, 714.0, 850.0, 1000.0, 920.0, 955.0, 925.0, 975.0, 950.0]\n",
    "\n",
    "# 빙어의 길이와 무게 리스트 14개\n",
    "smelt_length = [9.8, 10.5, 10.6, 11.0, 11.2, 11.3, 11.8, 11.8, 12.0, 12.2, 12.4, 13.0, 14.3, 15.0]\n",
    "smelt_weight = [6.7, 7.5, 7.0, 9.7, 9.8, 8.7, 10.0, 9.9, 9.8, 12.2, 13.4, 12.2, 19.7, 19.9]\n",
    "\n",
    "\n",
    "import matplotlib.pyplot as plt    # 그래프 그림을 그릴때 쓰는 라이브러리 호출(맷플롯립 )\n",
    "from sklearn.neighbors import KNeighborsClassifier     # K-최근접 이웃 분류 알고리즘 호출(사이킷런 머신러닝 패키지)\n",
    "\n",
    "All_fish_length=bream_length + smelt_length\n",
    "All_fish_weight=bream_weight + smelt_weight\n",
    "All_fish_answer = [1]*35+[0]*14    # Superviser 학습을 위한 정답지 만들기 (1이면 도미, 0이면 빙어이다.)\n",
    "All_data = [[a,b] for a,b in zip(All_fish_length, All_fish_weight)]    # 사이킷런 활용을 위한 2차원 리스트 쌍 [[길이,무게], [길이,무게]...]\n",
    "\n",
    "kn = KNeighborsClassifier()    # K-최근접 이웃분류 클래스 인스턴스화 하기 (n_neighbors=15를 클래스 괄호 안에 넣어주면 이웃체크수 15개로 변경 가능)\n",
    "kn.fit(All_data[:35], All_fish_answer[:35])    # 학습셋 35개 \n",
    "kn.score(All_data[36:], All_fish_answer[36:])    # 테스트셋 14개 설정"
   ]
  },
  {
   "cell_type": "markdown",
   "metadata": {},
   "source": [
    "## numpy 라이브러리 사용"
   ]
  },
  {
   "cell_type": "code",
   "execution_count": 4,
   "metadata": {},
   "outputs": [
    {
     "name": "stdout",
     "output_type": "stream",
     "text": [
      "(49, 2)\n"
     ]
    }
   ],
   "source": [
    "import numpy as np\n",
    "input_arr = np.array(All_data)     # 파이썬 리스트를 넘파이로 변환\n",
    "target_arr = np.array(All_fish_answer)    # 파이썬 리스트를 넘파이로 변환\n",
    "\n",
    "print(input_arr.shape)    # 샘플개수, 특성개수 출력"
   ]
  },
  {
   "cell_type": "markdown",
   "metadata": {},
   "source": [
    "## 학습셋과 테스트셋을 골고루 섞어서 샘플링 편향을 방지한다."
   ]
  },
  {
   "cell_type": "code",
   "execution_count": 40,
   "metadata": {},
   "outputs": [
    {
     "name": "stdout",
     "output_type": "stream",
     "text": [
      "[13 45 47 44 17 27 26 25 31 19 12  4 34  8  3  6 40 41 46 15  9 16 24 33\n",
      " 30  0 43 32  5 29 11 36  1 21  2 37 35 23 39 10 22 18 48 20  7 42 14 28\n",
      " 38]\n",
      "[[ 25.4 242. ]\n",
      " [ 26.3 290. ]\n",
      " [ 26.5 340. ]]\n",
      "\n"
     ]
    }
   ],
   "source": [
    "np.random.seed(42)    #항상 동일한 결과를 출력하기 위해서 시드번호를 부여한다.(시드번호 있으면 항상 고정된 랜덤배열이 생성)\n",
    "index = np.arange(49)    # 0부터 48까지의 정수가 담긴 배열을 생성한다.\n",
    "np.random.shuffle(index)    #넘파이 배열을 섞는다.\n",
    "\n",
    "print(index)\n",
    "\n",
    "mlist =[0,1,2]\n",
    "print(input_arr[mlist])    # 넘파이 배열은 이렇게 원하는 인덱스번호가 담긴 리스트를 넣으면 알아서 해당 인덱스 번호만 뽑아준다.\n",
    "\n",
    "# 학습셋 만들기    (49개중 35개를 학습셋으로 사용)\n",
    "train_input = input_arr[index[:35]]\n",
    "train_target = target_arr[index[:35]]\n",
    "\n",
    "# 테스트셋 만들기    (49개중 14개를 테스트셋으로 사용)\n",
    "test_input = input_arr[index[35:]]\n",
    "test_target = target_arr[index[35:]]\n",
    "\n",
    "print()"
   ]
  },
  {
   "cell_type": "markdown",
   "metadata": {},
   "source": [
    "### 학습셋과 테스트셋 상태를 그래프로 출력해봅시다."
   ]
  },
  {
   "cell_type": "code",
   "execution_count": 47,
   "metadata": {},
   "outputs": [
    {
     "data": {
      "image/png": "[encoded data removed]",
      "text/plain": [
       "<Figure size 640x480 with 1 Axes>"
      ]
     },
     "metadata": {},
     "output_type": "display_data"
    }
   ],
   "source": [
    "import matplotlib.pyplot as plt\n",
    "plt.scatter(train_input[:, 0], train_input[:,1], label='train')     # 모든 행의 0번째 열(길이), 1번째 열(무게)를 가져온다는 말이다. 다차원 넘파이 배열만의 접근법인가 보다\n",
    "plt.scatter(test_input[:, 0], test_input[:,1], label='test')\n",
    "plt.xlabel('length')\n",
    "plt.ylabel('weight')\n",
    "plt.legend()    # 범례 출력하기\n",
    "plt.show()"
   ]
  },
  {
   "cell_type": "markdown",
   "metadata": {},
   "source": [
    "### 위의 학습셋과 테스트셋을 바탕으로 K-최근접 이웃 알고리즘 표현하기"
   ]
  },
  {
   "cell_type": "code",
   "execution_count": 52,
   "metadata": {},
   "outputs": [
    {
     "name": "stdout",
     "output_type": "stream",
     "text": [
      "1.0\n",
      "[0 0 1 0 1 1 1 0 1 1 0 1 1 0]\n",
      "[0 0 1 0 1 1 1 0 1 1 0 1 1 0]\n"
     ]
    }
   ],
   "source": [
    "kn.fit(train_input, train_target)    # 학습셋 바탕으로 학습 진행하기\n",
    "print(kn.score(test_input, test_target))    # 테스트셋 바탕으로 학습 진행하기(1.0의 정확도!)\n",
    "\n",
    "# 직접 쿼리문 날려서 결과 확인하기(둘다 정확하게 일치한다.)\n",
    "print(kn.predict(test_input))\n",
    "print(test_target)"
   ]
  },
  {
   "cell_type": "markdown",
   "metadata": {},
   "source": [
    "# 2장 전체 소스 코드"
   ]
  },
  {
   "cell_type": "code",
   "execution_count": null,
   "metadata": {},
   "outputs": [],
   "source": [
    "# 전체 코드 작성하기"
   ]
  }
 ],
 "metadata": {
  "kernelspec": {
   "display_name": "Python 3",
   "language": "python",
   "name": "python3"
  },
  "language_info": {
   "codemirror_mode": {
    "name": "ipython",
    "version": 3
   },
   "file_extension": ".py",
   "mimetype": "text/x-python",
   "name": "python",
   "nbconvert_exporter": "python",
   "pygments_lexer": "ipython3",
   "version": "3.11.4"
  },
  "orig_nbformat": 4
 },
 "nbformat": 4,
 "nbformat_minor": 2
}
